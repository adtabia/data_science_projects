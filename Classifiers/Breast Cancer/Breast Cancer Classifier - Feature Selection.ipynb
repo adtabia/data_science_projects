{
 "cells": [
  {
   "cell_type": "markdown",
   "metadata": {},
   "source": [
    "# 01) Importación de librerias"
   ]
  },
  {
   "cell_type": "code",
   "execution_count": 1,
   "metadata": {},
   "outputs": [],
   "source": [
    "#Importación de librerias básicas\n",
    "import numpy as np\n",
    "import pandas as pd"
   ]
  },
  {
   "cell_type": "code",
   "execution_count": 2,
   "metadata": {},
   "outputs": [
    {
     "name": "stderr",
     "output_type": "stream",
     "text": [
      "/home/angeltabia/anaconda3/lib/python3.5/importlib/_bootstrap.py:222: RuntimeWarning: numpy.dtype size changed, may indicate binary incompatibility. Expected 96, got 88\n",
      "  return f(*args, **kwds)\n"
     ]
    }
   ],
   "source": [
    "#Importación de librerias para ploteo\n",
    "import matplotlib.pyplot as plt\n",
    "import seaborn as sns\n",
    "import matplotlib.cm as cm"
   ]
  },
  {
   "cell_type": "code",
   "execution_count": 3,
   "metadata": {},
   "outputs": [],
   "source": [
    "#Importación de librerias para preprocesamiento de data\n",
    "from sklearn.model_selection import train_test_split, cross_val_score, GridSearchCV\n",
    "from sklearn.preprocessing import StandardScaler, LabelEncoder"
   ]
  },
  {
   "cell_type": "code",
   "execution_count": 4,
   "metadata": {},
   "outputs": [],
   "source": [
    "#Importación de librerias para modelos de clasificación\n",
    "from sklearn.svm import SVC\n",
    "from sklearn.linear_model import LogisticRegression\n",
    "from sklearn.neighbors import KNeighborsClassifier"
   ]
  },
  {
   "cell_type": "code",
   "execution_count": 5,
   "metadata": {},
   "outputs": [],
   "source": [
    "#Importación de librerias de métricas\n",
    "from sklearn.metrics import accuracy_score, confusion_matrix, roc_curve, auc"
   ]
  },
  {
   "cell_type": "code",
   "execution_count": 6,
   "metadata": {},
   "outputs": [],
   "source": [
    "#Importación de librerias para feature selection\n",
    "from sklearn.feature_selection import RFECV, VarianceThreshold\n",
    "from sklearn.linear_model import Lasso, LassoCV, LassoLarsCV, LassoLarsIC"
   ]
  },
  {
   "cell_type": "code",
   "execution_count": 7,
   "metadata": {},
   "outputs": [],
   "source": [
    "#Importación de libreria para PCA\n",
    "from sklearn.decomposition import PCA"
   ]
  },
  {
   "cell_type": "markdown",
   "metadata": {},
   "source": [
    "# 02) Importación de data set"
   ]
  },
  {
   "cell_type": "code",
   "execution_count": 8,
   "metadata": {},
   "outputs": [
    {
     "data": {
      "text/plain": [
       "'/home/angeltabia/Escritorio/Data Science/Clases/Clase 5'"
      ]
     },
     "execution_count": 8,
     "metadata": {},
     "output_type": "execute_result"
    }
   ],
   "source": [
    "pwd"
   ]
  },
  {
   "cell_type": "code",
   "execution_count": 10,
   "metadata": {},
   "outputs": [
    {
     "data": {
      "text/plain": [
       "(569, 32)"
      ]
     },
     "execution_count": 10,
     "metadata": {},
     "output_type": "execute_result"
    }
   ],
   "source": [
    "#Importación de data set\n",
    "breast = pd.read_csv('/home/angeltabia/Escritorio/Data Science/Clases/Clase 5/clase_05_breast_wiscon_data.csv',\n",
    "                     delimiter=';')\n",
    "breast.shape"
   ]
  },
  {
   "cell_type": "code",
   "execution_count": 11,
   "metadata": {},
   "outputs": [
    {
     "data": {
      "text/html": [
       "<div>\n",
       "<style scoped>\n",
       "    .dataframe tbody tr th:only-of-type {\n",
       "        vertical-align: middle;\n",
       "    }\n",
       "\n",
       "    .dataframe tbody tr th {\n",
       "        vertical-align: top;\n",
       "    }\n",
       "\n",
       "    .dataframe thead th {\n",
       "        text-align: right;\n",
       "    }\n",
       "</style>\n",
       "<table border=\"1\" class=\"dataframe\">\n",
       "  <thead>\n",
       "    <tr style=\"text-align: right;\">\n",
       "      <th></th>\n",
       "      <th>id</th>\n",
       "      <th>diagnosis</th>\n",
       "      <th>radius_mean</th>\n",
       "      <th>texture_mean</th>\n",
       "      <th>perimeter_mean</th>\n",
       "      <th>area_mean</th>\n",
       "      <th>smoothness_mean</th>\n",
       "      <th>compactness_mean</th>\n",
       "      <th>concavity_mean</th>\n",
       "      <th>concave points_mean</th>\n",
       "      <th>...</th>\n",
       "      <th>radius_worst</th>\n",
       "      <th>texture_worst</th>\n",
       "      <th>perimeter_worst</th>\n",
       "      <th>area_worst</th>\n",
       "      <th>smoothness_worst</th>\n",
       "      <th>compactness_worst</th>\n",
       "      <th>concavity_worst</th>\n",
       "      <th>concave points_worst</th>\n",
       "      <th>symmetry_worst</th>\n",
       "      <th>fractal_dimension_worst</th>\n",
       "    </tr>\n",
       "  </thead>\n",
       "  <tbody>\n",
       "    <tr>\n",
       "      <th>0</th>\n",
       "      <td>842302</td>\n",
       "      <td>M</td>\n",
       "      <td>17.99</td>\n",
       "      <td>10.38</td>\n",
       "      <td>122.80</td>\n",
       "      <td>1001.0</td>\n",
       "      <td>0.11840</td>\n",
       "      <td>0.27760</td>\n",
       "      <td>0.3001</td>\n",
       "      <td>0.14710</td>\n",
       "      <td>...</td>\n",
       "      <td>25.38</td>\n",
       "      <td>17.33</td>\n",
       "      <td>184.60</td>\n",
       "      <td>2019.0</td>\n",
       "      <td>0.1622</td>\n",
       "      <td>0.6656</td>\n",
       "      <td>0.7119</td>\n",
       "      <td>0.2654</td>\n",
       "      <td>0.4601</td>\n",
       "      <td>0.11890</td>\n",
       "    </tr>\n",
       "    <tr>\n",
       "      <th>1</th>\n",
       "      <td>842517</td>\n",
       "      <td>M</td>\n",
       "      <td>20.57</td>\n",
       "      <td>17.77</td>\n",
       "      <td>132.90</td>\n",
       "      <td>1326.0</td>\n",
       "      <td>0.08474</td>\n",
       "      <td>0.07864</td>\n",
       "      <td>0.0869</td>\n",
       "      <td>0.07017</td>\n",
       "      <td>...</td>\n",
       "      <td>24.99</td>\n",
       "      <td>23.41</td>\n",
       "      <td>158.80</td>\n",
       "      <td>1956.0</td>\n",
       "      <td>0.1238</td>\n",
       "      <td>0.1866</td>\n",
       "      <td>0.2416</td>\n",
       "      <td>0.1860</td>\n",
       "      <td>0.2750</td>\n",
       "      <td>0.08902</td>\n",
       "    </tr>\n",
       "    <tr>\n",
       "      <th>2</th>\n",
       "      <td>84300903</td>\n",
       "      <td>M</td>\n",
       "      <td>19.69</td>\n",
       "      <td>21.25</td>\n",
       "      <td>130.00</td>\n",
       "      <td>1203.0</td>\n",
       "      <td>0.10960</td>\n",
       "      <td>0.15990</td>\n",
       "      <td>0.1974</td>\n",
       "      <td>0.12790</td>\n",
       "      <td>...</td>\n",
       "      <td>23.57</td>\n",
       "      <td>25.53</td>\n",
       "      <td>152.50</td>\n",
       "      <td>1709.0</td>\n",
       "      <td>0.1444</td>\n",
       "      <td>0.4245</td>\n",
       "      <td>0.4504</td>\n",
       "      <td>0.2430</td>\n",
       "      <td>0.3613</td>\n",
       "      <td>0.08758</td>\n",
       "    </tr>\n",
       "    <tr>\n",
       "      <th>3</th>\n",
       "      <td>84348301</td>\n",
       "      <td>M</td>\n",
       "      <td>11.42</td>\n",
       "      <td>20.38</td>\n",
       "      <td>77.58</td>\n",
       "      <td>386.1</td>\n",
       "      <td>0.14250</td>\n",
       "      <td>0.28390</td>\n",
       "      <td>0.2414</td>\n",
       "      <td>0.10520</td>\n",
       "      <td>...</td>\n",
       "      <td>14.91</td>\n",
       "      <td>26.50</td>\n",
       "      <td>98.87</td>\n",
       "      <td>567.7</td>\n",
       "      <td>0.2098</td>\n",
       "      <td>0.8663</td>\n",
       "      <td>0.6869</td>\n",
       "      <td>0.2575</td>\n",
       "      <td>0.6638</td>\n",
       "      <td>0.17300</td>\n",
       "    </tr>\n",
       "    <tr>\n",
       "      <th>4</th>\n",
       "      <td>84358402</td>\n",
       "      <td>M</td>\n",
       "      <td>20.29</td>\n",
       "      <td>14.34</td>\n",
       "      <td>135.10</td>\n",
       "      <td>1297.0</td>\n",
       "      <td>0.10030</td>\n",
       "      <td>0.13280</td>\n",
       "      <td>0.1980</td>\n",
       "      <td>0.10430</td>\n",
       "      <td>...</td>\n",
       "      <td>22.54</td>\n",
       "      <td>16.67</td>\n",
       "      <td>152.20</td>\n",
       "      <td>1575.0</td>\n",
       "      <td>0.1374</td>\n",
       "      <td>0.2050</td>\n",
       "      <td>0.4000</td>\n",
       "      <td>0.1625</td>\n",
       "      <td>0.2364</td>\n",
       "      <td>0.07678</td>\n",
       "    </tr>\n",
       "  </tbody>\n",
       "</table>\n",
       "<p>5 rows × 32 columns</p>\n",
       "</div>"
      ],
      "text/plain": [
       "         id diagnosis  radius_mean  texture_mean  perimeter_mean  area_mean  \\\n",
       "0    842302         M        17.99         10.38          122.80     1001.0   \n",
       "1    842517         M        20.57         17.77          132.90     1326.0   \n",
       "2  84300903         M        19.69         21.25          130.00     1203.0   \n",
       "3  84348301         M        11.42         20.38           77.58      386.1   \n",
       "4  84358402         M        20.29         14.34          135.10     1297.0   \n",
       "\n",
       "   smoothness_mean  compactness_mean  concavity_mean  concave points_mean  \\\n",
       "0          0.11840           0.27760          0.3001              0.14710   \n",
       "1          0.08474           0.07864          0.0869              0.07017   \n",
       "2          0.10960           0.15990          0.1974              0.12790   \n",
       "3          0.14250           0.28390          0.2414              0.10520   \n",
       "4          0.10030           0.13280          0.1980              0.10430   \n",
       "\n",
       "            ...             radius_worst  texture_worst  perimeter_worst  \\\n",
       "0           ...                    25.38          17.33           184.60   \n",
       "1           ...                    24.99          23.41           158.80   \n",
       "2           ...                    23.57          25.53           152.50   \n",
       "3           ...                    14.91          26.50            98.87   \n",
       "4           ...                    22.54          16.67           152.20   \n",
       "\n",
       "   area_worst  smoothness_worst  compactness_worst  concavity_worst  \\\n",
       "0      2019.0            0.1622             0.6656           0.7119   \n",
       "1      1956.0            0.1238             0.1866           0.2416   \n",
       "2      1709.0            0.1444             0.4245           0.4504   \n",
       "3       567.7            0.2098             0.8663           0.6869   \n",
       "4      1575.0            0.1374             0.2050           0.4000   \n",
       "\n",
       "   concave points_worst  symmetry_worst  fractal_dimension_worst  \n",
       "0                0.2654          0.4601                  0.11890  \n",
       "1                0.1860          0.2750                  0.08902  \n",
       "2                0.2430          0.3613                  0.08758  \n",
       "3                0.2575          0.6638                  0.17300  \n",
       "4                0.1625          0.2364                  0.07678  \n",
       "\n",
       "[5 rows x 32 columns]"
      ]
     },
     "execution_count": 11,
     "metadata": {},
     "output_type": "execute_result"
    }
   ],
   "source": [
    "breast.head()"
   ]
  },
  {
   "cell_type": "markdown",
   "metadata": {},
   "source": [
    "# 03) Partición y Preprocesamiento de data"
   ]
  },
  {
   "cell_type": "code",
   "execution_count": 12,
   "metadata": {},
   "outputs": [],
   "source": [
    "#Partición X & Y\n",
    "x = breast.iloc[:,2:]\n",
    "y = breast.iloc[:,1]"
   ]
  },
  {
   "cell_type": "code",
   "execution_count": 13,
   "metadata": {},
   "outputs": [],
   "source": [
    "#Label encoder\n",
    "encoder = LabelEncoder()\n",
    "y = encoder.fit_transform(y)"
   ]
  },
  {
   "cell_type": "code",
   "execution_count": 14,
   "metadata": {},
   "outputs": [],
   "source": [
    "#Separación training & testing data\n",
    "xtrain, xtest, ytrain, ytest = train_test_split(x, y, test_size = 0.3, random_state = 4)"
   ]
  },
  {
   "cell_type": "code",
   "execution_count": 15,
   "metadata": {},
   "outputs": [],
   "source": [
    "#Standard scaler\n",
    "scaler = StandardScaler().fit(xtrain)\n",
    "xtrain_scal = scaler.transform(xtrain)  \n",
    "xtest_scal = scaler.transform(xtest)"
   ]
  },
  {
   "cell_type": "markdown",
   "metadata": {},
   "source": [
    "# 04) Analisis de Componentes Principales (PCA)"
   ]
  },
  {
   "cell_type": "code",
   "execution_count": 16,
   "metadata": {},
   "outputs": [],
   "source": [
    "#Principal 20 components\n",
    "n_comps = 20\n",
    "sklearn_pca = PCA(n_components = n_comps)\n",
    "xpca = pd.DataFrame(sklearn_pca.fit_transform(xtrain_scal))\n",
    "eigenvalues = sklearn_pca.explained_variance_ratio_"
   ]
  },
  {
   "cell_type": "markdown",
   "metadata": {},
   "source": [
    "# Observamos los autovalores obtenidos del PCA"
   ]
  },
  {
   "cell_type": "code",
   "execution_count": 17,
   "metadata": {},
   "outputs": [
    {
     "data": {
      "image/png": "[encoded data removed]",
      "text/plain": [
       "<Figure size 432x288 with 1 Axes>"
      ]
     },
     "metadata": {
      "needs_background": "light"
     },
     "output_type": "display_data"
    }
   ],
   "source": [
    "components = range(1 , n_comps + 1)\n",
    "plt.bar(components,eigenvalues)\n",
    "plt.xticks(components)\n",
    "plt.title('Explained variance of top 20 n_compsprincipal components')\n",
    "plt.xlabel('Top 20 Principal Components')\n",
    "plt.ylabel('Explained Variance')\n",
    "plt.show()"
   ]
  },
  {
   "cell_type": "code",
   "execution_count": 18,
   "metadata": {},
   "outputs": [
    {
     "data": {
      "image/png": "[encoded data removed]",
      "text/plain": [
       "<Figure size 648x432 with 1 Axes>"
      ]
     },
     "metadata": {
      "needs_background": "light"
     },
     "output_type": "display_data"
    }
   ],
   "source": [
    "#Plot de los 2 principal components del PCA \n",
    "y_pca = np.reshape(np.array(ytrain),(len(ytrain),1))\n",
    "col = np.zeros((len(y_pca[:,0]),4))\n",
    "for t in range(len(y_pca[:,0])):\n",
    "    if y_pca[t,0] == 1:\n",
    "        col[t,] += np.reshape(cm.rainbow(np.linspace(0.2, 0.4, 1)),(4,))\n",
    "    else: \n",
    "        col[t,] += np.reshape(cm.rainbow(np.linspace(0.9, 0.6, 1)),(4,))\n",
    "  \n",
    "plt.figure(figsize = (9,6))\n",
    "plt.scatter(xpca.loc[:,0], xpca.loc[:,1], c = col)    \n",
    "plt.xlabel('Principal Component 1 , Explainded Variance Ratio = ' + str(np.round(eigenvalues[0],2)))\n",
    "plt.ylabel('Principal Component 2 , Explainded Variance Ratio = ' + str(np.round(eigenvalues[1],2)))\n",
    "plt.title('Principal Component Analysis before feature selection')\n",
    "plt.legend(loc='lower center')\n",
    "plt.tight_layout()\n",
    "plt.show()"
   ]
  },
  {
   "cell_type": "markdown",
   "metadata": {},
   "source": [
    "# Feature Selection con Variance Threshold"
   ]
  },
  {
   "cell_type": "code",
   "execution_count": 19,
   "metadata": {},
   "outputs": [
    {
     "data": {
      "text/plain": [
       "array([[   28.11,    18.47,   188.5 , ...,    18.47,   188.5 ,  2499.  ],\n",
       "       [   19.79,    25.12,   130.4 , ...,    33.58,   148.7 ,  1589.  ],\n",
       "       [   15.85,    23.95,   103.7 , ...,    27.66,   112.  ,   876.5 ],\n",
       "       ..., \n",
       "       [   14.02,    15.66,    89.59, ...,    19.31,    96.53,   688.9 ],\n",
       "       [   10.66,    15.15,    67.49, ...,    19.2 ,    73.2 ,   408.3 ],\n",
       "       [   24.25,    20.2 ,   166.2 , ...,    23.99,   180.9 ,  2073.  ]])"
      ]
     },
     "execution_count": 19,
     "metadata": {},
     "output_type": "execute_result"
    }
   ],
   "source": [
    "#Feature selection con variance threshold\n",
    "thresh = 0.5\n",
    "sel = VarianceThreshold(threshold = thresh)\n",
    "sel.fit_transform(xtrain)"
   ]
  },
  {
   "cell_type": "code",
   "execution_count": 20,
   "metadata": {},
   "outputs": [
    {
     "name": "stdout",
     "output_type": "stream",
     "text": [
      "La cantidad de Features seleccionadas son 10\n"
     ]
    }
   ],
   "source": [
    "print(\"La cantidad de Features seleccionadas son \" + str(np.shape(sel.fit_transform(xtrain))[1]))"
   ]
  },
  {
   "cell_type": "code",
   "execution_count": 21,
   "metadata": {},
   "outputs": [
    {
     "data": {
      "text/plain": [
       "array([ 0,  1,  2,  3, 12, 13, 20, 21, 22, 23])"
      ]
     },
     "execution_count": 21,
     "metadata": {},
     "output_type": "execute_result"
    }
   ],
   "source": [
    "#Set de columnas seleccionadas\n",
    "sel.get_support(True)"
   ]
  },
  {
   "cell_type": "code",
   "execution_count": 22,
   "metadata": {},
   "outputs": [
    {
     "data": {
      "text/plain": [
       "(398, 10)"
      ]
     },
     "execution_count": 22,
     "metadata": {},
     "output_type": "execute_result"
    }
   ],
   "source": [
    "#Training set\n",
    "xtrain_scal_red_thresh = sel.transform(xtrain_scal)\n",
    "np.shape(xtrain_scal_red_thresh)"
   ]
  },
  {
   "cell_type": "code",
   "execution_count": 23,
   "metadata": {},
   "outputs": [
    {
     "data": {
      "text/plain": [
       "(171, 10)"
      ]
     },
     "execution_count": 23,
     "metadata": {},
     "output_type": "execute_result"
    }
   ],
   "source": [
    "#Testing set\n",
    "xtest_scal_red_thresh = sel.transform(xtest_scal)\n",
    "np.shape(xtest_scal_red_thresh)"
   ]
  },
  {
   "cell_type": "markdown",
   "metadata": {},
   "source": [
    "# Feature Selection con Lasso"
   ]
  },
  {
   "cell_type": "code",
   "execution_count": 24,
   "metadata": {},
   "outputs": [],
   "source": [
    "#Feature Selection con Lasso\n",
    "lasso_featsel = Lasso(alpha = 0.01).fit(xtrain_scal,ytrain)"
   ]
  },
  {
   "cell_type": "code",
   "execution_count": 25,
   "metadata": {},
   "outputs": [
    {
     "data": {
      "text/plain": [
       "array([ 0.00717021,  0.014669  ,  0.        ,  0.        ,  0.        ,\n",
       "       -0.        ,  0.        ,  0.02413409,  0.        , -0.01017752,\n",
       "        0.00161471,  0.        ,  0.        , -0.        ,  0.00913922,\n",
       "       -0.00117641, -0.        ,  0.        , -0.        , -0.        ,\n",
       "        0.2160645 ,  0.04922908,  0.        , -0.        ,  0.03729621,\n",
       "       -0.        ,  0.02452974,  0.09696704,  0.02751567,  0.        ])"
      ]
     },
     "execution_count": 25,
     "metadata": {},
     "output_type": "execute_result"
    }
   ],
   "source": [
    "#Features que la selección elimino asignando su coeficiente == 0\n",
    "lasso_featsel.coef_"
   ]
  },
  {
   "cell_type": "code",
   "execution_count": 26,
   "metadata": {},
   "outputs": [
    {
     "name": "stdout",
     "output_type": "stream",
     "text": [
      "La cantidad de features seleccionadas con Lasso son 13\n"
     ]
    }
   ],
   "source": [
    "lasso_num_feat_sel = int(np.count_nonzero(lasso_featsel.coef_))\n",
    "print(\"La cantidad de features seleccionadas con Lasso son \" + str(lasso_num_feat_sel))"
   ]
  },
  {
   "cell_type": "code",
   "execution_count": 27,
   "metadata": {},
   "outputs": [
    {
     "data": {
      "text/plain": [
       "array([ True,  True, False, False, False, False, False,  True, False,\n",
       "        True,  True, False, False, False,  True,  True, False, False,\n",
       "       False, False,  True,  True, False, False,  True, False,  True,\n",
       "        True,  True, False], dtype=bool)"
      ]
     },
     "execution_count": 27,
     "metadata": {},
     "output_type": "execute_result"
    }
   ],
   "source": [
    "#Lista de features que pertenecen a la selección\n",
    "lasso_feat_cols = lasso_featsel.coef_ != 0\n",
    "lasso_feat_cols"
   ]
  },
  {
   "cell_type": "code",
   "execution_count": 28,
   "metadata": {},
   "outputs": [
    {
     "data": {
      "text/plain": [
       "(398, 13)"
      ]
     },
     "execution_count": 28,
     "metadata": {},
     "output_type": "execute_result"
    }
   ],
   "source": [
    "#Training set\n",
    "xtrain_scal_red_lasso = xtrain_scal[:, lasso_feat_cols]\n",
    "np.shape(xtrain_scal_red_lasso)"
   ]
  },
  {
   "cell_type": "code",
   "execution_count": 29,
   "metadata": {},
   "outputs": [
    {
     "data": {
      "text/plain": [
       "(171, 13)"
      ]
     },
     "execution_count": 29,
     "metadata": {},
     "output_type": "execute_result"
    }
   ],
   "source": [
    "#Testing set\n",
    "xtest_scal_red_lasso = xtest_scal[:, lasso_feat_cols]\n",
    "np.shape(xtest_scal_red_lasso)"
   ]
  },
  {
   "cell_type": "markdown",
   "metadata": {},
   "source": [
    "# Feature Selection con RFE"
   ]
  },
  {
   "cell_type": "code",
   "execution_count": 31,
   "metadata": {},
   "outputs": [],
   "source": [
    "#Feature selection con RFE utilizando un modelo 'Support Vector Machine Classifier'\n",
    "costrfe = 50\n",
    "svcrfe = SVC(C = costrfe, kernel = \"linear\")\n",
    "rfecv = RFECV(estimator = svcrfe, step = 1, cv = 5, scoring = 'accuracy').fit(xtrain_scal, ytrain)"
   ]
  },
  {
   "cell_type": "code",
   "execution_count": 32,
   "metadata": {},
   "outputs": [
    {
     "name": "stdout",
     "output_type": "stream",
     "text": [
      "Optimal number of features : 19\n"
     ]
    },
    {
     "data": {
      "image/png": "[encoded data removed]",
      "text/plain": [
       "<Figure size 432x288 with 1 Axes>"
      ]
     },
     "metadata": {
      "needs_background": "light"
     },
     "output_type": "display_data"
    }
   ],
   "source": [
    "#Variación del accuracy en función de la cantidad de features utilizadas\n",
    "print(\"Optimal number of features : %d\" % rfecv.n_features_)\n",
    "plt.figure()\n",
    "plt.xlabel(\"Number of features selected\")\n",
    "plt.ylabel(\"Cross validation score (nb of correct classifications)\")\n",
    "plt.plot(range(1, len(rfecv.grid_scores_) + 1), rfecv.grid_scores_)\n",
    "plt.show()"
   ]
  },
  {
   "cell_type": "code",
   "execution_count": 33,
   "metadata": {},
   "outputs": [
    {
     "data": {
      "text/plain": [
       "array([ True, False,  True,  True, False,  True,  True,  True, False,\n",
       "        True,  True, False,  True,  True, False,  True,  True,  True,\n",
       "       False,  True,  True,  True,  True,  True, False, False, False,\n",
       "       False, False,  True], dtype=bool)"
      ]
     },
     "execution_count": 33,
     "metadata": {},
     "output_type": "execute_result"
    }
   ],
   "source": [
    "#Features seleccionadas por RFE\n",
    "feat_rfe = rfecv.support_ == True\n",
    "feat_rfe"
   ]
  },
  {
   "cell_type": "code",
   "execution_count": 34,
   "metadata": {},
   "outputs": [
    {
     "name": "stdout",
     "output_type": "stream",
     "text": [
      "La cantidad de variables seleccionadas con RFE son = 19\n"
     ]
    }
   ],
   "source": [
    "print(\"La cantidad de variables seleccionadas con RFE son = \" + str(rfecv.n_features_))"
   ]
  },
  {
   "cell_type": "code",
   "execution_count": 35,
   "metadata": {},
   "outputs": [
    {
     "data": {
      "text/plain": [
       "(398, 19)"
      ]
     },
     "execution_count": 35,
     "metadata": {},
     "output_type": "execute_result"
    }
   ],
   "source": [
    "#Training set\n",
    "xtrain_scal_red_rfe = xtrain_scal[:,rfecv.support_]\n",
    "np.shape(xtrain_scal_red_rfe)"
   ]
  },
  {
   "cell_type": "code",
   "execution_count": 36,
   "metadata": {},
   "outputs": [
    {
     "data": {
      "text/plain": [
       "(171, 19)"
      ]
     },
     "execution_count": 36,
     "metadata": {},
     "output_type": "execute_result"
    }
   ],
   "source": [
    "#Testing set\n",
    "xtest_scal_red_rfe = xtest_scal[:,rfecv.support_]\n",
    "np.shape(xtest_scal_red_rfe)"
   ]
  },
  {
   "cell_type": "markdown",
   "metadata": {},
   "source": [
    "# Asignación 01: Realizar un PCA con los dataset obtenidos luego de cada metodo de feature selection."
   ]
  },
  {
   "cell_type": "markdown",
   "metadata": {},
   "source": [
    "## 01.1 - Featured Selection with Varience Theshold"
   ]
  },
  {
   "cell_type": "code",
   "execution_count": 38,
   "metadata": {},
   "outputs": [],
   "source": [
    "#Autovalores del data set obtenido con Variance Theshold\n",
    "sklearn_pca_vt = PCA(n_components= 'mle')\n",
    "\n",
    "#Training data\n",
    "xtrain_pca_vt = pd.DataFrame(sklearn_pca_vt.fit_transform(xtrain_scal_red_thresh))\n",
    "#Testing data\n",
    "xtest_pca_vt = pd.DataFrame(sklearn_pca_vt.transform(xtest_scal_red_thresh))"
   ]
  },
  {
   "cell_type": "markdown",
   "metadata": {},
   "source": [
    "## 01.2 - Featured Selection with Recursive Feature Elimination"
   ]
  },
  {
   "cell_type": "code",
   "execution_count": 40,
   "metadata": {},
   "outputs": [],
   "source": [
    "#Autovalores del data set obtenido con Recursive Feature Elimination\n",
    "sklearn_pca_rfe = PCA(n_components= 'mle')\n",
    "\n",
    "#Training data\n",
    "xtrain_pca_rfe = pd.DataFrame(sklearn_pca_rfe.fit_transform(xtrain_scal_red_rfe))\n",
    "#Testing data\n",
    "xtest_pca_rfe = pd.DataFrame(sklearn_pca_rfe.transform(xtest_scal_red_rfe))"
   ]
  },
  {
   "cell_type": "markdown",
   "metadata": {},
   "source": [
    "## 01.3 - Featured Selection with Lasso"
   ]
  },
  {
   "cell_type": "code",
   "execution_count": 41,
   "metadata": {},
   "outputs": [],
   "source": [
    "#Autovalores del data set obtenido con Recursive Feature Elimination\n",
    "sklearn_pca_lasso = PCA(n_components= 'mle')\n",
    "\n",
    "#Training data\n",
    "xtrain_pca_lasso = pd.DataFrame(sklearn_pca_lasso.fit_transform(xtrain_scal_red_lasso))\n",
    "#Testing data\n",
    "xtest_pca_lasso = pd.DataFrame(sklearn_pca_lasso.transform(xtest_scal_red_lasso))"
   ]
  },
  {
   "cell_type": "markdown",
   "metadata": {},
   "source": [
    "# Asignación 02: Comparar cual es el grado de solapamiento de variables seleccionadas para los 3 metodos vistos."
   ]
  },
  {
   "cell_type": "code",
   "execution_count": 42,
   "metadata": {},
   "outputs": [
    {
     "data": {
      "text/html": [
       "<div>\n",
       "<style scoped>\n",
       "    .dataframe tbody tr th:only-of-type {\n",
       "        vertical-align: middle;\n",
       "    }\n",
       "\n",
       "    .dataframe tbody tr th {\n",
       "        vertical-align: top;\n",
       "    }\n",
       "\n",
       "    .dataframe thead th {\n",
       "        text-align: right;\n",
       "    }\n",
       "</style>\n",
       "<table border=\"1\" class=\"dataframe\">\n",
       "  <thead>\n",
       "    <tr style=\"text-align: right;\">\n",
       "      <th></th>\n",
       "      <th>radius_mean</th>\n",
       "      <th>radius_worst</th>\n",
       "      <th>texture_worst</th>\n",
       "    </tr>\n",
       "  </thead>\n",
       "  <tbody>\n",
       "    <tr>\n",
       "      <th>212</th>\n",
       "      <td>28.11</td>\n",
       "      <td>28.110</td>\n",
       "      <td>18.47</td>\n",
       "    </tr>\n",
       "    <tr>\n",
       "      <th>129</th>\n",
       "      <td>19.79</td>\n",
       "      <td>22.630</td>\n",
       "      <td>33.58</td>\n",
       "    </tr>\n",
       "    <tr>\n",
       "      <th>13</th>\n",
       "      <td>15.85</td>\n",
       "      <td>16.840</td>\n",
       "      <td>27.66</td>\n",
       "    </tr>\n",
       "    <tr>\n",
       "      <th>307</th>\n",
       "      <td>9.00</td>\n",
       "      <td>9.699</td>\n",
       "      <td>20.07</td>\n",
       "    </tr>\n",
       "    <tr>\n",
       "      <th>338</th>\n",
       "      <td>10.05</td>\n",
       "      <td>11.160</td>\n",
       "      <td>26.84</td>\n",
       "    </tr>\n",
       "  </tbody>\n",
       "</table>\n",
       "</div>"
      ],
      "text/plain": [
       "     radius_mean  radius_worst  texture_worst\n",
       "212        28.11        28.110          18.47\n",
       "129        19.79        22.630          33.58\n",
       "13         15.85        16.840          27.66\n",
       "307         9.00         9.699          20.07\n",
       "338        10.05        11.160          26.84"
      ]
     },
     "execution_count": 42,
     "metadata": {},
     "output_type": "execute_result"
    }
   ],
   "source": [
    "xtrain.loc[ : ,(lasso_feat_cols) & (sel.get_support()) & rfecv.get_support()].head()"
   ]
  },
  {
   "cell_type": "markdown",
   "metadata": {},
   "source": [
    "# Asignacion 03: Aplicar clasificadores de SVM, KNN y LR a cada uno de los nuevos datasets reducidos y comparar con accuracy  y AUC cual fue el mejor metodo de reduccion."
   ]
  },
  {
   "cell_type": "markdown",
   "metadata": {},
   "source": [
    "## 03.01 - Logistic Regression"
   ]
  },
  {
   "cell_type": "markdown",
   "metadata": {},
   "source": [
    "### Varience Theshold"
   ]
  },
  {
   "cell_type": "code",
   "execution_count": 44,
   "metadata": {},
   "outputs": [
    {
     "name": "stderr",
     "output_type": "stream",
     "text": [
      "/home/angeltabia/anaconda3/lib/python3.5/site-packages/sklearn/linear_model/logistic.py:432: FutureWarning: Default solver will be changed to 'lbfgs' in 0.22. Specify a solver to silence this warning.\n",
      "  FutureWarning)\n"
     ]
    }
   ],
   "source": [
    "#Logistic Regression\n",
    "lr_vt = LogisticRegression().fit(xtrain_pca_vt, ytrain)"
   ]
  },
  {
   "cell_type": "code",
   "execution_count": 46,
   "metadata": {},
   "outputs": [],
   "source": [
    "#Predicción\n",
    "ypred_vt_lr = lr_vt.predict(xtest_pca_vt)"
   ]
  },
  {
   "cell_type": "code",
   "execution_count": 47,
   "metadata": {},
   "outputs": [
    {
     "name": "stdout",
     "output_type": "stream",
     "text": [
      "El accuracy con el data set reducido por Varience Theshold es 0.929824561404\n"
     ]
    }
   ],
   "source": [
    "#Accuracy\n",
    "print('El accuracy con el data set reducido por Varience Theshold es ' + str(accuracy_score(ytest, ypred_vt_lr)))"
   ]
  },
  {
   "cell_type": "code",
   "execution_count": 49,
   "metadata": {},
   "outputs": [
    {
     "name": "stdout",
     "output_type": "stream",
     "text": [
      "El AUC con el data set reducido por Varience Theshold es 0.923789173789\n"
     ]
    }
   ],
   "source": [
    "#AUC\n",
    "fpr_vt_lr, tpr_vt_lr, thresholds = roc_curve(ytest, ypred_vt_lr, pos_label = 1)\n",
    "print('El AUC con el data set reducido por Varience Theshold es ' + str(auc(fpr_vt_lr, tpr_vt_lr)))"
   ]
  },
  {
   "cell_type": "markdown",
   "metadata": {},
   "source": [
    "### Recursive Feature Elimination"
   ]
  },
  {
   "cell_type": "code",
   "execution_count": 50,
   "metadata": {},
   "outputs": [
    {
     "name": "stderr",
     "output_type": "stream",
     "text": [
      "/home/angeltabia/anaconda3/lib/python3.5/site-packages/sklearn/linear_model/logistic.py:432: FutureWarning: Default solver will be changed to 'lbfgs' in 0.22. Specify a solver to silence this warning.\n",
      "  FutureWarning)\n"
     ]
    }
   ],
   "source": [
    "#Logistic Regression\n",
    "lr_rfe = LogisticRegression().fit(xtrain_pca_rfe, ytrain)"
   ]
  },
  {
   "cell_type": "code",
   "execution_count": 51,
   "metadata": {},
   "outputs": [],
   "source": [
    "#Predicción\n",
    "ypred_rfe_lr = lr_rfe.predict(xtest_pca_rfe)"
   ]
  },
  {
   "cell_type": "code",
   "execution_count": 53,
   "metadata": {},
   "outputs": [
    {
     "name": "stdout",
     "output_type": "stream",
     "text": [
      "El accuracy con el data set reducido por Recursive Feature Elimination es 0.959064327485\n"
     ]
    }
   ],
   "source": [
    "#Accuracy\n",
    "print('El accuracy con el data set reducido por Recursive Feature Elimination es ' + str(accuracy_score(ytest, ypred_rfe_lr)))"
   ]
  },
  {
   "cell_type": "code",
   "execution_count": 55,
   "metadata": {},
   "outputs": [
    {
     "name": "stdout",
     "output_type": "stream",
     "text": [
      "El AUC con el data set reducido por Recursive Feature Elimination es 0.970085470085\n"
     ]
    }
   ],
   "source": [
    "#AUC\n",
    "fpr_rfe_lr, tpr_rfe_lr, thresholds = roc_curve(ytest, ypred_rfe_lr, pos_label = 1)\n",
    "print('El AUC con el data set reducido por Recursive Feature Elimination es ' + str(auc(fpr_rfe_lr, tpr_rfe_lr)))"
   ]
  },
  {
   "cell_type": "markdown",
   "metadata": {},
   "source": [
    "### Lasso"
   ]
  },
  {
   "cell_type": "code",
   "execution_count": 56,
   "metadata": {},
   "outputs": [
    {
     "name": "stderr",
     "output_type": "stream",
     "text": [
      "/home/angeltabia/anaconda3/lib/python3.5/site-packages/sklearn/linear_model/logistic.py:432: FutureWarning: Default solver will be changed to 'lbfgs' in 0.22. Specify a solver to silence this warning.\n",
      "  FutureWarning)\n"
     ]
    }
   ],
   "source": [
    "#Logistic Regression\n",
    "lr_lasso = LogisticRegression().fit(xtrain_pca_lasso, ytrain)"
   ]
  },
  {
   "cell_type": "code",
   "execution_count": 57,
   "metadata": {},
   "outputs": [],
   "source": [
    "#Predicción\n",
    "ypred_lasso_lr = lr_lasso.predict(xtest_pca_lasso)"
   ]
  },
  {
   "cell_type": "code",
   "execution_count": 58,
   "metadata": {},
   "outputs": [
    {
     "name": "stdout",
     "output_type": "stream",
     "text": [
      "El accuracy con el data set reducido por Lasso es 0.976608187135\n"
     ]
    }
   ],
   "source": [
    "#Accuracy\n",
    "print('El accuracy con el data set reducido por Lasso es ' + str(accuracy_score(ytest, ypred_lasso_lr)))"
   ]
  },
  {
   "cell_type": "code",
   "execution_count": 59,
   "metadata": {
    "scrolled": true
   },
   "outputs": [
    {
     "name": "stdout",
     "output_type": "stream",
     "text": [
      "El AUC con el data set reducido por Lasso es 0.982905982906\n"
     ]
    }
   ],
   "source": [
    "#AUC\n",
    "fpr_lasso_lr, tpr_lasso_lr, thresholds = roc_curve(ytest, ypred_lasso_lr, pos_label = 1)\n",
    "print('El AUC con el data set reducido por Lasso es ' + str(auc(fpr_lasso_lr, tpr_lasso_lr)))"
   ]
  },
  {
   "cell_type": "markdown",
   "metadata": {},
   "source": [
    "## 03.02 - Support Vector Machine"
   ]
  },
  {
   "cell_type": "markdown",
   "metadata": {},
   "source": [
    "### Varience Theshold"
   ]
  },
  {
   "cell_type": "code",
   "execution_count": 60,
   "metadata": {},
   "outputs": [
    {
     "name": "stderr",
     "output_type": "stream",
     "text": [
      "/home/angeltabia/anaconda3/lib/python3.5/site-packages/sklearn/svm/base.py:196: FutureWarning: The default value of gamma will change from 'auto' to 'scale' in version 0.22 to account better for unscaled features. Set gamma explicitly to 'auto' or 'scale' to avoid this warning.\n",
      "  \"avoid this warning.\", FutureWarning)\n"
     ]
    }
   ],
   "source": [
    "#Support Vector Classifier\n",
    "svc_vt = SVC().fit(xtrain_pca_vt, ytrain)"
   ]
  },
  {
   "cell_type": "code",
   "execution_count": 61,
   "metadata": {},
   "outputs": [],
   "source": [
    "#Predicción\n",
    "ypred_vt_svc = svc_vt.predict(xtest_pca_vt)"
   ]
  },
  {
   "cell_type": "code",
   "execution_count": 62,
   "metadata": {},
   "outputs": [
    {
     "name": "stdout",
     "output_type": "stream",
     "text": [
      "El accuracy con el data set reducido por Varience Theshold es 0.941520467836\n"
     ]
    }
   ],
   "source": [
    "#Accuracy\n",
    "print('El accuracy con el data set reducido por Varience Theshold es ' + str(accuracy_score(ytest, ypred_vt_svc)))"
   ]
  },
  {
   "cell_type": "code",
   "execution_count": 64,
   "metadata": {},
   "outputs": [
    {
     "name": "stdout",
     "output_type": "stream",
     "text": [
      "El AUC con el data set reducido por Varience Theshold es 0.937321937322\n"
     ]
    }
   ],
   "source": [
    "#AUC\n",
    "fpr_vt_svc, tpr_vt_svc, thresholds = roc_curve(ytest, ypred_vt_svc, pos_label = 1)\n",
    "print('El AUC con el data set reducido por Varience Theshold es ' + str(auc(fpr_vt_svc, tpr_vt_svc)))"
   ]
  },
  {
   "cell_type": "markdown",
   "metadata": {},
   "source": [
    "### Recursive Feature Elimination"
   ]
  },
  {
   "cell_type": "code",
   "execution_count": 65,
   "metadata": {},
   "outputs": [
    {
     "name": "stderr",
     "output_type": "stream",
     "text": [
      "/home/angeltabia/anaconda3/lib/python3.5/site-packages/sklearn/svm/base.py:196: FutureWarning: The default value of gamma will change from 'auto' to 'scale' in version 0.22 to account better for unscaled features. Set gamma explicitly to 'auto' or 'scale' to avoid this warning.\n",
      "  \"avoid this warning.\", FutureWarning)\n"
     ]
    }
   ],
   "source": [
    "#Logistic Regression\n",
    "svc_rfe = SVC().fit(xtrain_pca_rfe, ytrain)"
   ]
  },
  {
   "cell_type": "code",
   "execution_count": 66,
   "metadata": {},
   "outputs": [],
   "source": [
    "#Predicción\n",
    "ypred_rfe_svc = svc_rfe.predict(xtest_pca_rfe)"
   ]
  },
  {
   "cell_type": "code",
   "execution_count": 67,
   "metadata": {},
   "outputs": [
    {
     "name": "stdout",
     "output_type": "stream",
     "text": [
      "El accuracy con el data set reducido por Recursive Feature Elimination es 0.959064327485\n"
     ]
    }
   ],
   "source": [
    "#Accuracy\n",
    "print('El accuracy con el data set reducido por Recursive Feature Elimination es ' + str(accuracy_score(ytest, ypred_rfe_svc)))"
   ]
  },
  {
   "cell_type": "code",
   "execution_count": 68,
   "metadata": {},
   "outputs": [
    {
     "name": "stdout",
     "output_type": "stream",
     "text": [
      "El AUC con el data set reducido por Recursive Feature Elimination es 0.9650997151\n"
     ]
    }
   ],
   "source": [
    "#AUC\n",
    "fpr_rfe_svc, tpr_rfe_svc, thresholds = roc_curve(ytest, ypred_rfe_svc, pos_label = 1)\n",
    "print('El AUC con el data set reducido por Recursive Feature Elimination es ' + str(auc(fpr_rfe_svc, tpr_rfe_svc)))"
   ]
  },
  {
   "cell_type": "markdown",
   "metadata": {},
   "source": [
    "### Lasso"
   ]
  },
  {
   "cell_type": "code",
   "execution_count": 69,
   "metadata": {},
   "outputs": [
    {
     "name": "stderr",
     "output_type": "stream",
     "text": [
      "/home/angeltabia/anaconda3/lib/python3.5/site-packages/sklearn/svm/base.py:196: FutureWarning: The default value of gamma will change from 'auto' to 'scale' in version 0.22 to account better for unscaled features. Set gamma explicitly to 'auto' or 'scale' to avoid this warning.\n",
      "  \"avoid this warning.\", FutureWarning)\n"
     ]
    }
   ],
   "source": [
    "#Logistic Regression\n",
    "svc_lasso = SVC().fit(xtrain_pca_lasso, ytrain)"
   ]
  },
  {
   "cell_type": "code",
   "execution_count": 70,
   "metadata": {},
   "outputs": [],
   "source": [
    "#Predicción\n",
    "ypred_lasso_svc = svc_lasso.predict(xtest_pca_lasso)"
   ]
  },
  {
   "cell_type": "code",
   "execution_count": 71,
   "metadata": {},
   "outputs": [
    {
     "name": "stdout",
     "output_type": "stream",
     "text": [
      "El accuracy con el data set reducido por Lasso es 0.976608187135\n"
     ]
    }
   ],
   "source": [
    "#Accuracy\n",
    "print('El accuracy con el data set reducido por Lasso es ' + str(accuracy_score(ytest, ypred_lasso_svc)))"
   ]
  },
  {
   "cell_type": "code",
   "execution_count": 73,
   "metadata": {
    "scrolled": true
   },
   "outputs": [
    {
     "name": "stdout",
     "output_type": "stream",
     "text": [
      "El AUC con el data set reducido por Lasso es 0.982905982906\n"
     ]
    }
   ],
   "source": [
    "#AUC\n",
    "fpr_lasso_svc, tpr_lasso_svc, thresholds = roc_curve(ytest, ypred_lasso_svc, pos_label = 1)\n",
    "print('El AUC con el data set reducido por Lasso es ' + str(auc(fpr_lasso_svc, tpr_lasso_svc)))"
   ]
  },
  {
   "cell_type": "markdown",
   "metadata": {},
   "source": [
    "## 03.03 - K Neighbors Classifier"
   ]
  },
  {
   "cell_type": "markdown",
   "metadata": {},
   "source": [
    "### Varience Theshold"
   ]
  },
  {
   "cell_type": "code",
   "execution_count": 74,
   "metadata": {},
   "outputs": [],
   "source": [
    "#Logistic Regression\n",
    "knn_vt = KNeighborsClassifier().fit(xtrain_pca_vt, ytrain)"
   ]
  },
  {
   "cell_type": "code",
   "execution_count": 75,
   "metadata": {},
   "outputs": [],
   "source": [
    "#Predicción\n",
    "ypred_vt_knn = knn_vt.predict(xtest_pca_vt)"
   ]
  },
  {
   "cell_type": "code",
   "execution_count": 76,
   "metadata": {},
   "outputs": [
    {
     "name": "stdout",
     "output_type": "stream",
     "text": [
      "El accuracy con el data set reducido por Varience Theshold es 0.929824561404\n"
     ]
    }
   ],
   "source": [
    "#Accuracy\n",
    "print('El accuracy con el data set reducido por Varience Theshold es ' + str(accuracy_score(ytest, ypred_vt_knn)))"
   ]
  },
  {
   "cell_type": "code",
   "execution_count": 77,
   "metadata": {},
   "outputs": [
    {
     "name": "stdout",
     "output_type": "stream",
     "text": [
      "El AUC con el data set reducido por Varience Theshold es 0.918803418803\n"
     ]
    }
   ],
   "source": [
    "#AUC\n",
    "fpr_vt_knn, tpr_vt_knn, thresholds = roc_curve(ytest, ypred_vt_knn, pos_label = 1)\n",
    "print('El AUC con el data set reducido por Varience Theshold es ' + str(auc(fpr_vt_knn, tpr_vt_knn)))"
   ]
  },
  {
   "cell_type": "markdown",
   "metadata": {},
   "source": [
    "### Recursive Feature Elimination"
   ]
  },
  {
   "cell_type": "code",
   "execution_count": 78,
   "metadata": {},
   "outputs": [],
   "source": [
    "#Logistic Regression\n",
    "knn_rfe = KNeighborsClassifier().fit(xtrain_pca_rfe, ytrain)"
   ]
  },
  {
   "cell_type": "code",
   "execution_count": 79,
   "metadata": {},
   "outputs": [],
   "source": [
    "#Predicción\n",
    "ypred_rfe_knn = knn_rfe.predict(xtest_pca_rfe)"
   ]
  },
  {
   "cell_type": "code",
   "execution_count": 80,
   "metadata": {},
   "outputs": [
    {
     "name": "stdout",
     "output_type": "stream",
     "text": [
      "El accuracy con el data set reducido por Recursive Feature Elimination es 0.964912280702\n"
     ]
    }
   ],
   "source": [
    "#Accuracy\n",
    "print('El accuracy con el data set reducido por Recursive Feature Elimination es ' + str(accuracy_score(ytest, ypred_rfe_knn)))"
   ]
  },
  {
   "cell_type": "code",
   "execution_count": 81,
   "metadata": {},
   "outputs": [
    {
     "name": "stdout",
     "output_type": "stream",
     "text": [
      "El AUC con el data set reducido por Recursive Feature Elimination es 0.969373219373\n"
     ]
    }
   ],
   "source": [
    "#AUC\n",
    "fpr_rfe_knn, tpr_rfe_knn, thresholds = roc_curve(ytest, ypred_rfe_knn, pos_label = 1)\n",
    "print('El AUC con el data set reducido por Recursive Feature Elimination es ' + str(auc(fpr_rfe_knn, tpr_rfe_knn)))"
   ]
  },
  {
   "cell_type": "markdown",
   "metadata": {},
   "source": [
    "### Lasso"
   ]
  },
  {
   "cell_type": "code",
   "execution_count": 82,
   "metadata": {},
   "outputs": [],
   "source": [
    "#Logistic Regression\n",
    "knn_lasso = KNeighborsClassifier().fit(xtrain_pca_lasso, ytrain)"
   ]
  },
  {
   "cell_type": "code",
   "execution_count": 83,
   "metadata": {},
   "outputs": [],
   "source": [
    "#Predicción\n",
    "ypred_lasso_knn = knn_lasso.predict(xtest_pca_lasso)"
   ]
  },
  {
   "cell_type": "code",
   "execution_count": 84,
   "metadata": {},
   "outputs": [
    {
     "name": "stdout",
     "output_type": "stream",
     "text": [
      "El accuracy con el data set reducido por Lasso es 0.970760233918\n"
     ]
    }
   ],
   "source": [
    "#Accuracy\n",
    "print('El accuracy con el data set reducido por Lasso es ' + str(accuracy_score(ytest, ypred_lasso_knn)))"
   ]
  },
  {
   "cell_type": "code",
   "execution_count": 85,
   "metadata": {
    "scrolled": true
   },
   "outputs": [
    {
     "name": "stdout",
     "output_type": "stream",
     "text": [
      "El AUC con el data set reducido por Lasso es 0.968660968661\n"
     ]
    }
   ],
   "source": [
    "#AUC\n",
    "fpr_lasso_knn, tpr_lasso_knn, thresholds = roc_curve(ytest, ypred_lasso_knn, pos_label = 1)\n",
    "print('El AUC con el data set reducido por Lasso es ' + str(auc(fpr_lasso_knn, tpr_lasso_knn)))"
   ]
  },
  {
   "cell_type": "markdown",
   "metadata": {},
   "source": [
    "### Comparando los resultados del Accuracy y el AUC para cada tipo de modelo, el metodo de reducción Lasso presenta una mejor performance en todos los casos"
   ]
  },
  {
   "cell_type": "markdown",
   "metadata": {},
   "source": [
    "# Asignacion 04: Probar distintos hiperparametros de cada metodo de seleccion de variables y ver si se pueden mejorar los modelos."
   ]
  },
  {
   "cell_type": "markdown",
   "metadata": {},
   "source": [
    "## Se buscara mejorar la performance del modelo SVC para cada uno de los data sets reducidos"
   ]
  },
  {
   "cell_type": "code",
   "execution_count": 86,
   "metadata": {},
   "outputs": [],
   "source": [
    "params_svc = [{\n",
    "                'C':[1, 10, 100, 1000],\n",
    "                'kernel':['linear']\n",
    "},\n",
    "              {\n",
    "                'C':[1, 10, 100, 1000],\n",
    "                'kernel':['rbf', 'poly'],\n",
    "                'gamma':[0.1, 0.01, 0.001, 0.0001]                 \n",
    "}]"
   ]
  },
  {
   "cell_type": "markdown",
   "metadata": {},
   "source": [
    "### 04.01 - Varience Theshold"
   ]
  },
  {
   "cell_type": "code",
   "execution_count": 87,
   "metadata": {},
   "outputs": [],
   "source": [
    "#Support Vector Classifier\n",
    "svc_vt = SVC()"
   ]
  },
  {
   "cell_type": "code",
   "execution_count": 88,
   "metadata": {},
   "outputs": [],
   "source": [
    "#Grid Search\n",
    "svc_vt_grid = GridSearchCV(svc_vt, param_grid = params_svc, cv = 5).fit(xtrain_pca_vt, ytrain)"
   ]
  },
  {
   "cell_type": "code",
   "execution_count": 89,
   "metadata": {},
   "outputs": [],
   "source": [
    "#Predicción\n",
    "ypred_vt_svc_grid = svc_vt_grid.predict(xtest_pca_vt)"
   ]
  },
  {
   "cell_type": "code",
   "execution_count": 90,
   "metadata": {},
   "outputs": [
    {
     "name": "stdout",
     "output_type": "stream",
     "text": [
      "El accuracy con el data set reducido por Varience Theshold es 0.953216374269\n"
     ]
    }
   ],
   "source": [
    "#Accuracy\n",
    "print('El accuracy con el data set reducido por Varience Theshold es ' + str(accuracy_score(ytest, ypred_vt_svc_grid)))"
   ]
  },
  {
   "cell_type": "code",
   "execution_count": 92,
   "metadata": {},
   "outputs": [
    {
     "name": "stdout",
     "output_type": "stream",
     "text": [
      "El AUC con el data set reducido por Varience Theshold es 0.950854700855\n"
     ]
    }
   ],
   "source": [
    "#AUC\n",
    "fpr_vt_svc_grid, tpr_vt_svc_grid, thresholds = roc_curve(ytest, ypred_vt_svc_grid, pos_label = 1)\n",
    "print('El AUC con el data set reducido por Varience Theshold es ' + str(auc(fpr_vt_svc_grid, tpr_vt_svc_grid)))"
   ]
  },
  {
   "cell_type": "markdown",
   "metadata": {},
   "source": [
    "### 04.02 - Recursive Feature Elimination"
   ]
  },
  {
   "cell_type": "code",
   "execution_count": 93,
   "metadata": {},
   "outputs": [],
   "source": [
    "#Logistic Regression\n",
    "svc_rfe = SVC()"
   ]
  },
  {
   "cell_type": "code",
   "execution_count": 94,
   "metadata": {},
   "outputs": [],
   "source": [
    "#Grid Search\n",
    "svc_rfe_grid = GridSearchCV(svc_rfe, param_grid = params_svc, cv = 5).fit(xtrain_pca_rfe, ytrain)"
   ]
  },
  {
   "cell_type": "code",
   "execution_count": 95,
   "metadata": {},
   "outputs": [],
   "source": [
    "#Predicción\n",
    "ypred_rfe_svc_grid = svc_rfe_grid.predict(xtest_pca_rfe)"
   ]
  },
  {
   "cell_type": "code",
   "execution_count": 96,
   "metadata": {},
   "outputs": [
    {
     "name": "stdout",
     "output_type": "stream",
     "text": [
      "El accuracy con el data set reducido por Recursive Feature Elimination es 0.970760233918\n"
     ]
    }
   ],
   "source": [
    "#Accuracy\n",
    "print('El accuracy con el data set reducido por Recursive Feature Elimination es ' + str(accuracy_score(ytest, ypred_rfe_svc_grid)))"
   ]
  },
  {
   "cell_type": "code",
   "execution_count": 97,
   "metadata": {},
   "outputs": [
    {
     "name": "stdout",
     "output_type": "stream",
     "text": [
      "El AUC con el data set reducido por Recursive Feature Elimination es 0.978632478632\n"
     ]
    }
   ],
   "source": [
    "#AUC\n",
    "fpr_rfe_svc_grid, tpr_rfe_svc_grid, thresholds = roc_curve(ytest, ypred_rfe_svc_grid, pos_label = 1)\n",
    "print('El AUC con el data set reducido por Recursive Feature Elimination es ' + str(auc(fpr_rfe_svc_grid, tpr_rfe_svc_grid)))"
   ]
  },
  {
   "cell_type": "markdown",
   "metadata": {},
   "source": [
    "### 04.03 - Lasso"
   ]
  },
  {
   "cell_type": "code",
   "execution_count": 98,
   "metadata": {},
   "outputs": [],
   "source": [
    "#Logistic Regression\n",
    "svc_lasso = SVC()"
   ]
  },
  {
   "cell_type": "code",
   "execution_count": 99,
   "metadata": {},
   "outputs": [],
   "source": [
    "#Grid Search\n",
    "svc_lasso_grid = GridSearchCV(svc_lasso, param_grid = params_svc, cv = 5).fit(xtrain_pca_lasso, ytrain)"
   ]
  },
  {
   "cell_type": "code",
   "execution_count": 100,
   "metadata": {},
   "outputs": [],
   "source": [
    "#Predicción\n",
    "ypred_lasso_svc_grid = svc_lasso_grid.predict(xtest_pca_lasso)"
   ]
  },
  {
   "cell_type": "code",
   "execution_count": 101,
   "metadata": {},
   "outputs": [
    {
     "name": "stdout",
     "output_type": "stream",
     "text": [
      "El accuracy con el data set reducido por Lasso es 0.988304093567\n"
     ]
    }
   ],
   "source": [
    "#Accuracy\n",
    "print('El accuracy con el data set reducido por Lasso es ' + str(accuracy_score(ytest, ypred_lasso_svc_grid)))"
   ]
  },
  {
   "cell_type": "code",
   "execution_count": 102,
   "metadata": {
    "scrolled": true
   },
   "outputs": [
    {
     "name": "stdout",
     "output_type": "stream",
     "text": [
      "El AUC con el data set reducido por Lasso es 0.991452991453\n"
     ]
    }
   ],
   "source": [
    "#AUC\n",
    "fpr_lasso_svc_grid, tpr_lasso_svc_grid, thresholds = roc_curve(ytest, ypred_lasso_svc_grid, pos_label = 1)\n",
    "print('El AUC con el data set reducido por Lasso es ' + str(auc(fpr_lasso_svc_grid, tpr_lasso_svc_grid)))"
   ]
  },
  {
   "cell_type": "markdown",
   "metadata": {},
   "source": [
    "## Luego de realizar una selección de hyperparámetros se obtuvo una mejora para cada set de datos. El que mejor performo fue el set utilizando el metodo de selección Lasso."
   ]
  }
 ],
 "metadata": {
  "kernelspec": {
   "display_name": "Python 3",
   "language": "python",
   "name": "python3"
  },
  "language_info": {
   "codemirror_mode": {
    "name": "ipython",
    "version": 3
   },
   "file_extension": ".py",
   "mimetype": "text/x-python",
   "name": "python",
   "nbconvert_exporter": "python",
   "pygments_lexer": "ipython3",
   "version": "3.5.5"
  }
 },
 "nbformat": 4,
 "nbformat_minor": 2
}
